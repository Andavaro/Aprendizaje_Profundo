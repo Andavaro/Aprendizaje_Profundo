{
 "cells": [
  {
   "cell_type": "markdown",
   "metadata": {},
   "source": [
    "# Deep Learning - Examen Final"
   ]
  },
  {
   "cell_type": "markdown",
   "metadata": {},
   "source": [
    "Importamos las librerias que se van a utilizar"
   ]
  },
  {
   "cell_type": "code",
   "execution_count": 5,
   "metadata": {},
   "outputs": [],
   "source": [
    "import numpy as np\n",
    "import pandas as pd\n",
    "from sklearn import metrics\n",
    "from sklearn import preprocessing\n",
    "from sklearn.model_selection import train_test_split\n",
    "from sklearn.preprocessing import OneHotEncoder\n",
    "import matplotlib.pyplot as plt\n",
    "import torch\n",
    "import torch.nn as nn\n",
    "from torch.utils.data import Dataset, DataLoader\n",
    "\n",
    "np.random.seed(0)"
   ]
  },
  {
   "cell_type": "code",
   "execution_count": 8,
   "metadata": {},
   "outputs": [
    {
     "data": {
      "text/plain": [
       "'cpu'"
      ]
     },
     "execution_count": 8,
     "metadata": {},
     "output_type": "execute_result"
    }
   ],
   "source": [
    "device = \"cuda\" if torch.cuda.is_available() else \"cpu\"\n",
    "device"
   ]
  },
  {
   "cell_type": "markdown",
   "metadata": {},
   "source": [
    "Importamos las dataset"
   ]
  },
  {
   "cell_type": "code",
   "execution_count": 6,
   "metadata": {},
   "outputs": [],
   "source": [
    "dataset_1 = pd.read_csv('dataset_1.csv')\n",
    "dataset_2 = pd.read_csv('dataset_2.csv')"
   ]
  },
  {
   "cell_type": "markdown",
   "metadata": {},
   "source": [
    "# 1)"
   ]
  },
  {
   "cell_type": "code",
   "execution_count": 9,
   "metadata": {},
   "outputs": [
    {
     "data": {
      "text/html": [
       "<div>\n",
       "<style scoped>\n",
       "    .dataframe tbody tr th:only-of-type {\n",
       "        vertical-align: middle;\n",
       "    }\n",
       "\n",
       "    .dataframe tbody tr th {\n",
       "        vertical-align: top;\n",
       "    }\n",
       "\n",
       "    .dataframe thead th {\n",
       "        text-align: right;\n",
       "    }\n",
       "</style>\n",
       "<table border=\"1\" class=\"dataframe\">\n",
       "  <thead>\n",
       "    <tr style=\"text-align: right;\">\n",
       "      <th></th>\n",
       "      <th># X</th>\n",
       "      <th>Y</th>\n",
       "    </tr>\n",
       "  </thead>\n",
       "  <tbody>\n",
       "    <tr>\n",
       "      <th>0</th>\n",
       "      <td>1.791979</td>\n",
       "      <td>4.952906</td>\n",
       "    </tr>\n",
       "    <tr>\n",
       "      <th>1</th>\n",
       "      <td>0.846885</td>\n",
       "      <td>1.424248</td>\n",
       "    </tr>\n",
       "    <tr>\n",
       "      <th>2</th>\n",
       "      <td>1.000300</td>\n",
       "      <td>0.454364</td>\n",
       "    </tr>\n",
       "    <tr>\n",
       "      <th>3</th>\n",
       "      <td>1.884188</td>\n",
       "      <td>6.681510</td>\n",
       "    </tr>\n",
       "    <tr>\n",
       "      <th>4</th>\n",
       "      <td>0.889089</td>\n",
       "      <td>1.211691</td>\n",
       "    </tr>\n",
       "  </tbody>\n",
       "</table>\n",
       "</div>"
      ],
      "text/plain": [
       "        # X         Y\n",
       "0  1.791979  4.952906\n",
       "1  0.846885  1.424248\n",
       "2  1.000300  0.454364\n",
       "3  1.884188  6.681510\n",
       "4  0.889089  1.211691"
      ]
     },
     "execution_count": 9,
     "metadata": {},
     "output_type": "execute_result"
    }
   ],
   "source": [
    "dataset_1.head()"
   ]
  },
  {
   "cell_type": "code",
   "execution_count": 10,
   "metadata": {},
   "outputs": [],
   "source": [
    "X = np.array(dataset_1['# X'])\n",
    "Y = np.array(dataset_1['Y'])\n",
    "\n",
    "X_train, X_test, y_train, y_test = train_test_split(X, Y, test_size = 0.30, random_state = 777)"
   ]
  },
  {
   "cell_type": "code",
   "execution_count": 11,
   "metadata": {},
   "outputs": [],
   "source": [
    "learning_rate = 0.000001 \n",
    "n_epochs = 700\n",
    "train_loss = []\n",
    "test_loss = []\n",
    "train_accuracy = []\n",
    "test_accuracy = []\n",
    "\n",
    "# Inicializamos los pesos y el bias\n",
    "w1, w2, b = np.random.uniform(0, 1, 3)\n",
    "\n",
    "for epoch in range(n_epochs):\n",
    "\n",
    "  y_hat_train = []\n",
    "  y_hat_test = []\n",
    "\n",
    "  # Definimos las variables de entrenamiento\n",
    "  x = X_train\n",
    "  y = y_train\n",
    "  \n",
    "  for i in range(len(x)):\n",
    "\n",
    "      # Forward  \n",
    "      y_h = w1 * x[i]**3 + w2 * x[i]**2 + w1 * x[i] + b\n",
    "\n",
    "      # Back\n",
    "      w1 = w1 + learning_rate * (y[i] - y_h) * (x[i]**3 + x[i])\n",
    "      w2 = w2 + learning_rate * (y[i] - y_h) * x[i]**2\n",
    "      b = b + learning_rate * (y[i] - y_h)\n",
    "    \n",
    "\n",
    "  # Calculamos el y_hat de entrenamiento\n",
    "  y_hat_train = w1 * x**3 + w2 * x**2 + w1 * x + b\n",
    "\n",
    "  # Calculamos loss y accuracy para el y_hat de entrenamiento\n",
    "  error_cuadratico_medio = np.sum(((y-y_hat_train)**2)/len(y))\n",
    "  train_loss.append(error_cuadratico_medio)\n",
    "  train_accuracy.append(1-error_cuadratico_medio)\n",
    "\n",
    "  # Definimos las variables de prueba\n",
    "  x = X_test\n",
    "  y = y_test\n",
    "        \n",
    "  # Calculamos el y_hat de prueba\n",
    "  y_hat_test = w1 * x**3 + w2 * x**2 + w1 * x + b\n",
    "\n",
    "  # Calculamos loss y accuracy para y_hat de prueba\n",
    "  error_cuadratico_medio = np.sum(((y-y_hat_test)**2)/len(y))\n",
    "  test_loss.append(error_cuadratico_medio)\n",
    "  test_accuracy.append(1-error_cuadratico_medio)\n",
    "  "
   ]
  },
  {
   "cell_type": "markdown",
   "metadata": {},
   "source": [
    "Gráficas:"
   ]
  },
  {
   "cell_type": "code",
   "execution_count": 12,
   "metadata": {},
   "outputs": [
    {
     "data": {
      "image/png": "[encoded data removed]",
      "text/plain": [
       "<Figure size 432x288 with 2 Axes>"
      ]
     },
     "metadata": {
      "needs_background": "light"
     },
     "output_type": "display_data"
    }
   ],
   "source": [
    "fig, axes = plt.subplots()\n",
    "\n",
    "# Grafico el error en train y en test\n",
    "axes.plot(np.arange(n_epochs), train_loss, linewidth = 2, label= \"Error en entrenamiento\", color='b')\n",
    "axes.plot(np.arange(n_epochs), test_loss, linewidth = 2, label= \"Error en prueba\", color='g')\n",
    "axes.set_xlabel('epoch')\n",
    "axes.set_ylabel('Loss')\n",
    "axes.legend(bbox_to_anchor =(0.95, 1.25), ncol = 2)\n",
    "axes.grid()\n",
    "#axes.show()\n",
    "\n",
    "# Grafico el accuracy en train y en test\n",
    "twin_axes = axes.twinx() \n",
    "twin_axes.plot(np.arange(n_epochs), train_accuracy, linewidth = 2, label= \"Precisión en entrenamiento\", color='r')\n",
    "twin_axes.plot(np.arange(n_epochs), test_accuracy, linewidth = 2, label= \"Precisión en prueba\", color='m')\n",
    "twin_axes.set_ylabel('Accuracy')\n",
    "twin_axes.legend(bbox_to_anchor =(1, 1.15), ncol = 2)\n",
    "twin_axes.grid()\n",
    "plt.show()"
   ]
  },
  {
   "cell_type": "markdown",
   "metadata": {},
   "source": [
    "Al comparar los resultados obtenidos, tanto de pérdidas como de precisión, en entrenamiento y en pruebas, se puede concluir que no exite overfitting."
   ]
  },
  {
   "cell_type": "code",
   "execution_count": 16,
   "metadata": {},
   "outputs": [
    {
     "data": {
      "image/png": "[encoded data removed]",
      "text/plain": [
       "<Figure size 432x288 with 1 Axes>"
      ]
     },
     "metadata": {
      "needs_background": "light"
     },
     "output_type": "display_data"
    }
   ],
   "source": [
    "# Calculamos las predicciones\n",
    "prediccion = w1 * X**3 + w2 * X**2 + w1 * X + b\n",
    "\n",
    "# Graficamos los valores reales y comparamos con el modelo obtenido\n",
    "plt.scatter(X, Y, label='Modelo original', s=1)\n",
    "plt.scatter(X, prediccion, label='Predicción', s=1)\n",
    "plt.xlabel(\"X\")\n",
    "plt.ylabel(\"Y\")\n",
    "plt.legend()\n",
    "plt.show()"
   ]
  },
  {
   "cell_type": "markdown",
   "metadata": {},
   "source": [
    "Al comparar el modelo obtenido con el original, podemos darnos cuenta que tenemos un underfitting."
   ]
  },
  {
   "cell_type": "markdown",
   "metadata": {},
   "source": [
    "# 2)"
   ]
  },
  {
   "cell_type": "markdown",
   "metadata": {},
   "source": [
    "# 3)"
   ]
  },
  {
   "cell_type": "code",
   "execution_count": 17,
   "metadata": {},
   "outputs": [
    {
     "data": {
      "text/html": [
       "<div>\n",
       "<style scoped>\n",
       "    .dataframe tbody tr th:only-of-type {\n",
       "        vertical-align: middle;\n",
       "    }\n",
       "\n",
       "    .dataframe tbody tr th {\n",
       "        vertical-align: top;\n",
       "    }\n",
       "\n",
       "    .dataframe thead th {\n",
       "        text-align: right;\n",
       "    }\n",
       "</style>\n",
       "<table border=\"1\" class=\"dataframe\">\n",
       "  <thead>\n",
       "    <tr style=\"text-align: right;\">\n",
       "      <th></th>\n",
       "      <th>User_ID</th>\n",
       "      <th>Product_ID</th>\n",
       "      <th>Gender</th>\n",
       "      <th>Age</th>\n",
       "      <th>Occupation</th>\n",
       "      <th>City_Category</th>\n",
       "      <th>Stay_In_Current_City_Years</th>\n",
       "      <th>Marital_Status</th>\n",
       "      <th>Product_Category_1</th>\n",
       "      <th>Product_Category_2</th>\n",
       "      <th>Product_Category_3</th>\n",
       "      <th>Purchase</th>\n",
       "    </tr>\n",
       "  </thead>\n",
       "  <tbody>\n",
       "    <tr>\n",
       "      <th>0</th>\n",
       "      <td>1000001</td>\n",
       "      <td>P00069042</td>\n",
       "      <td>F</td>\n",
       "      <td>0-17</td>\n",
       "      <td>10</td>\n",
       "      <td>A</td>\n",
       "      <td>2</td>\n",
       "      <td>0</td>\n",
       "      <td>3</td>\n",
       "      <td>NaN</td>\n",
       "      <td>NaN</td>\n",
       "      <td>8370</td>\n",
       "    </tr>\n",
       "    <tr>\n",
       "      <th>1</th>\n",
       "      <td>1000001</td>\n",
       "      <td>P00248942</td>\n",
       "      <td>F</td>\n",
       "      <td>0-17</td>\n",
       "      <td>10</td>\n",
       "      <td>A</td>\n",
       "      <td>2</td>\n",
       "      <td>0</td>\n",
       "      <td>1</td>\n",
       "      <td>6.0</td>\n",
       "      <td>14.0</td>\n",
       "      <td>15200</td>\n",
       "    </tr>\n",
       "    <tr>\n",
       "      <th>2</th>\n",
       "      <td>1000001</td>\n",
       "      <td>P00087842</td>\n",
       "      <td>F</td>\n",
       "      <td>0-17</td>\n",
       "      <td>10</td>\n",
       "      <td>A</td>\n",
       "      <td>2</td>\n",
       "      <td>0</td>\n",
       "      <td>12</td>\n",
       "      <td>NaN</td>\n",
       "      <td>NaN</td>\n",
       "      <td>1422</td>\n",
       "    </tr>\n",
       "    <tr>\n",
       "      <th>3</th>\n",
       "      <td>1000001</td>\n",
       "      <td>P00085442</td>\n",
       "      <td>F</td>\n",
       "      <td>0-17</td>\n",
       "      <td>10</td>\n",
       "      <td>A</td>\n",
       "      <td>2</td>\n",
       "      <td>0</td>\n",
       "      <td>12</td>\n",
       "      <td>14.0</td>\n",
       "      <td>NaN</td>\n",
       "      <td>1057</td>\n",
       "    </tr>\n",
       "    <tr>\n",
       "      <th>4</th>\n",
       "      <td>1000002</td>\n",
       "      <td>P00285442</td>\n",
       "      <td>M</td>\n",
       "      <td>55+</td>\n",
       "      <td>16</td>\n",
       "      <td>C</td>\n",
       "      <td>4+</td>\n",
       "      <td>0</td>\n",
       "      <td>8</td>\n",
       "      <td>NaN</td>\n",
       "      <td>NaN</td>\n",
       "      <td>7969</td>\n",
       "    </tr>\n",
       "  </tbody>\n",
       "</table>\n",
       "</div>"
      ],
      "text/plain": [
       "   User_ID Product_ID Gender   Age  Occupation City_Category  \\\n",
       "0  1000001  P00069042      F  0-17          10             A   \n",
       "1  1000001  P00248942      F  0-17          10             A   \n",
       "2  1000001  P00087842      F  0-17          10             A   \n",
       "3  1000001  P00085442      F  0-17          10             A   \n",
       "4  1000002  P00285442      M   55+          16             C   \n",
       "\n",
       "  Stay_In_Current_City_Years  Marital_Status  Product_Category_1  \\\n",
       "0                          2               0                   3   \n",
       "1                          2               0                   1   \n",
       "2                          2               0                  12   \n",
       "3                          2               0                  12   \n",
       "4                         4+               0                   8   \n",
       "\n",
       "   Product_Category_2  Product_Category_3  Purchase  \n",
       "0                 NaN                 NaN      8370  \n",
       "1                 6.0                14.0     15200  \n",
       "2                 NaN                 NaN      1422  \n",
       "3                14.0                 NaN      1057  \n",
       "4                 NaN                 NaN      7969  "
      ]
     },
     "execution_count": 17,
     "metadata": {},
     "output_type": "execute_result"
    }
   ],
   "source": [
    "dataset_2.head()"
   ]
  },
  {
   "cell_type": "code",
   "execution_count": 18,
   "metadata": {},
   "outputs": [
    {
     "name": "stdout",
     "output_type": "stream",
     "text": [
      "<class 'pandas.core.frame.DataFrame'>\n",
      "RangeIndex: 550068 entries, 0 to 550067\n",
      "Data columns (total 12 columns):\n",
      " #   Column                      Non-Null Count   Dtype  \n",
      "---  ------                      --------------   -----  \n",
      " 0   User_ID                     550068 non-null  int64  \n",
      " 1   Product_ID                  550068 non-null  object \n",
      " 2   Gender                      550068 non-null  object \n",
      " 3   Age                         550068 non-null  object \n",
      " 4   Occupation                  550068 non-null  int64  \n",
      " 5   City_Category               550068 non-null  object \n",
      " 6   Stay_In_Current_City_Years  550068 non-null  object \n",
      " 7   Marital_Status              550068 non-null  int64  \n",
      " 8   Product_Category_1          550068 non-null  int64  \n",
      " 9   Product_Category_2          376430 non-null  float64\n",
      " 10  Product_Category_3          166821 non-null  float64\n",
      " 11  Purchase                    550068 non-null  int64  \n",
      "dtypes: float64(2), int64(5), object(5)\n",
      "memory usage: 50.4+ MB\n"
     ]
    }
   ],
   "source": [
    "dataset_2.info()"
   ]
  },
  {
   "cell_type": "code",
   "execution_count": 19,
   "metadata": {},
   "outputs": [
    {
     "name": "stderr",
     "output_type": "stream",
     "text": [
      "/var/folders/6n/sbw9wnvd5qb998th95671fsh0000gn/T/ipykernel_731/804912701.py:4: SettingWithCopyWarning: \n",
      "A value is trying to be set on a copy of a slice from a DataFrame\n",
      "\n",
      "See the caveats in the documentation: https://pandas.pydata.org/pandas-docs/stable/user_guide/indexing.html#returning-a-view-versus-a-copy\n",
      "  dataset_2.Purchase[dataset_2.Purchase>=9000] = 1\n"
     ]
    },
    {
     "data": {
      "text/html": [
       "<div>\n",
       "<style scoped>\n",
       "    .dataframe tbody tr th:only-of-type {\n",
       "        vertical-align: middle;\n",
       "    }\n",
       "\n",
       "    .dataframe tbody tr th {\n",
       "        vertical-align: top;\n",
       "    }\n",
       "\n",
       "    .dataframe thead th {\n",
       "        text-align: right;\n",
       "    }\n",
       "</style>\n",
       "<table border=\"1\" class=\"dataframe\">\n",
       "  <thead>\n",
       "    <tr style=\"text-align: right;\">\n",
       "      <th></th>\n",
       "      <th>User_ID</th>\n",
       "      <th>Product_ID</th>\n",
       "      <th>Gender</th>\n",
       "      <th>Age</th>\n",
       "      <th>Occupation</th>\n",
       "      <th>City_Category</th>\n",
       "      <th>Stay_In_Current_City_Years</th>\n",
       "      <th>Marital_Status</th>\n",
       "      <th>Product_Category_1</th>\n",
       "      <th>Product_Category_2</th>\n",
       "      <th>Product_Category_3</th>\n",
       "      <th>Purchase</th>\n",
       "    </tr>\n",
       "  </thead>\n",
       "  <tbody>\n",
       "    <tr>\n",
       "      <th>1</th>\n",
       "      <td>1000001</td>\n",
       "      <td>P00248942</td>\n",
       "      <td>F</td>\n",
       "      <td>0-17</td>\n",
       "      <td>10</td>\n",
       "      <td>A</td>\n",
       "      <td>2</td>\n",
       "      <td>0</td>\n",
       "      <td>1</td>\n",
       "      <td>6.0</td>\n",
       "      <td>14.0</td>\n",
       "      <td>1</td>\n",
       "    </tr>\n",
       "    <tr>\n",
       "      <th>6</th>\n",
       "      <td>1000004</td>\n",
       "      <td>P00184942</td>\n",
       "      <td>M</td>\n",
       "      <td>46-50</td>\n",
       "      <td>7</td>\n",
       "      <td>B</td>\n",
       "      <td>2</td>\n",
       "      <td>1</td>\n",
       "      <td>1</td>\n",
       "      <td>8.0</td>\n",
       "      <td>17.0</td>\n",
       "      <td>1</td>\n",
       "    </tr>\n",
       "    <tr>\n",
       "      <th>13</th>\n",
       "      <td>1000005</td>\n",
       "      <td>P00145042</td>\n",
       "      <td>M</td>\n",
       "      <td>26-35</td>\n",
       "      <td>20</td>\n",
       "      <td>A</td>\n",
       "      <td>1</td>\n",
       "      <td>1</td>\n",
       "      <td>1</td>\n",
       "      <td>2.0</td>\n",
       "      <td>5.0</td>\n",
       "      <td>1</td>\n",
       "    </tr>\n",
       "    <tr>\n",
       "      <th>14</th>\n",
       "      <td>1000006</td>\n",
       "      <td>P00231342</td>\n",
       "      <td>F</td>\n",
       "      <td>51-55</td>\n",
       "      <td>9</td>\n",
       "      <td>A</td>\n",
       "      <td>1</td>\n",
       "      <td>0</td>\n",
       "      <td>5</td>\n",
       "      <td>8.0</td>\n",
       "      <td>14.0</td>\n",
       "      <td>0</td>\n",
       "    </tr>\n",
       "    <tr>\n",
       "      <th>16</th>\n",
       "      <td>1000006</td>\n",
       "      <td>P0096642</td>\n",
       "      <td>F</td>\n",
       "      <td>51-55</td>\n",
       "      <td>9</td>\n",
       "      <td>A</td>\n",
       "      <td>1</td>\n",
       "      <td>0</td>\n",
       "      <td>2</td>\n",
       "      <td>3.0</td>\n",
       "      <td>4.0</td>\n",
       "      <td>1</td>\n",
       "    </tr>\n",
       "  </tbody>\n",
       "</table>\n",
       "</div>"
      ],
      "text/plain": [
       "    User_ID Product_ID Gender    Age  Occupation City_Category  \\\n",
       "1   1000001  P00248942      F   0-17          10             A   \n",
       "6   1000004  P00184942      M  46-50           7             B   \n",
       "13  1000005  P00145042      M  26-35          20             A   \n",
       "14  1000006  P00231342      F  51-55           9             A   \n",
       "16  1000006   P0096642      F  51-55           9             A   \n",
       "\n",
       "    Stay_In_Current_City_Years  Marital_Status  Product_Category_1  \\\n",
       "1                            2               0                   1   \n",
       "6                            2               1                   1   \n",
       "13                           1               1                   1   \n",
       "14                           1               0                   5   \n",
       "16                           1               0                   2   \n",
       "\n",
       "    Product_Category_2  Product_Category_3  Purchase  \n",
       "1                  6.0                14.0         1  \n",
       "6                  8.0                17.0         1  \n",
       "13                 2.0                 5.0         1  \n",
       "14                 8.0                14.0         0  \n",
       "16                 3.0                 4.0         1  "
      ]
     },
     "execution_count": 19,
     "metadata": {},
     "output_type": "execute_result"
    }
   ],
   "source": [
    "dataset_2 = dataset_2.dropna()\n",
    "\n",
    "dataset_2.Purchase[dataset_2.Purchase<9000] = 0\n",
    "dataset_2.Purchase[dataset_2.Purchase>=9000] = 1\n",
    "\n",
    "dataset_2.Stay_In_Current_City_Years[dataset_2.Stay_In_Current_City_Years=='4+']=5\n",
    "dataset_2['Stay_In_Current_City_Years'] = dataset_2['Stay_In_Current_City_Years'].astype(int)\n",
    "\n",
    "dataset_2.head()\n"
   ]
  },
  {
   "cell_type": "markdown",
   "metadata": {},
   "source": [
    "## a) Modelo sin embeddings"
   ]
  },
  {
   "cell_type": "code",
   "execution_count": 20,
   "metadata": {},
   "outputs": [
    {
     "name": "stderr",
     "output_type": "stream",
     "text": [
      "/Users/andavaro/Library/Python/3.8/lib/python/site-packages/sklearn/utils/deprecation.py:87: FutureWarning: Function get_feature_names is deprecated; get_feature_names is deprecated in 1.0 and will be removed in 1.2. Please use get_feature_names_out instead.\n",
      "  warnings.warn(msg, category=FutureWarning)\n"
     ]
    }
   ],
   "source": [
    "# Aplicamos one hot encoder a los datos\n",
    "encoder = OneHotEncoder(handle_unknown = 'ignore')\n",
    "X = encoder.fit_transform(dataset_2[['Gender',\t'Age',\t'Occupation',\t'City_Category',\t'Stay_In_Current_City_Years',\t'Marital_Status', 'Product_Category_1',\t'Product_Category_2',\t'Product_Category_3']]).toarray()\n",
    "X = pd.DataFrame(X, columns = np.concatenate((encoder.get_feature_names(['Gender',\t'Age',\t'Occupation',\t'City_Category',\t'Stay_In_Current_City_Years',\t'Marital_Status', 'Product_Category_1',\t'Product_Category_2',\t'Product_Category_3'])), axis = None))"
   ]
  },
  {
   "cell_type": "code",
   "execution_count": 21,
   "metadata": {},
   "outputs": [
    {
     "data": {
      "text/plain": [
       "(166821, 81)"
      ]
     },
     "execution_count": 21,
     "metadata": {},
     "output_type": "execute_result"
    }
   ],
   "source": [
    "X.shape"
   ]
  },
  {
   "cell_type": "code",
   "execution_count": 22,
   "metadata": {},
   "outputs": [],
   "source": [
    "class Data(Dataset):\n",
    "    \n",
    "    def __init__(self, X, y):\n",
    "        self.X = X\n",
    "        self.y = y\n",
    "    \n",
    "    def __getitem__(self, idx):\n",
    "        return self.X[idx], self.y[idx]    \n",
    "        \n",
    "    def __len__(self):\n",
    "        return self.X.shape[0]"
   ]
  },
  {
   "cell_type": "code",
   "execution_count": 23,
   "metadata": {},
   "outputs": [],
   "source": [
    "class Net(nn.Module):\n",
    "\n",
    "    def __init__(self):\n",
    "        super(Net,self).__init__()\n",
    "        self.linear1 = nn.Linear(in_features = 81, out_features = 200, bias = True)\n",
    "        self.linear2 = nn.Linear(in_features = 200, out_features = 100, bias = True)\n",
    "        self.linear3 = nn.Linear(in_features = 100, out_features = 1, bias = True)\n",
    "   \n",
    "\n",
    "    def forward(self, x):\n",
    "\n",
    "        x = nn.functional.relu(self.linear1(x)) \n",
    "        x = nn.functional.relu(self.linear2(x))\n",
    "        x = nn.functional.sigmoid(self.linear3(x))\n",
    "        return x"
   ]
  },
  {
   "cell_type": "code",
   "execution_count": 24,
   "metadata": {},
   "outputs": [
    {
     "name": "stderr",
     "output_type": "stream",
     "text": [
      "/Users/andavaro/Library/Python/3.8/lib/python/site-packages/torch/nn/functional.py:1960: UserWarning: nn.functional.sigmoid is deprecated. Use torch.sigmoid instead.\n",
      "  warnings.warn(\"nn.functional.sigmoid is deprecated. Use torch.sigmoid instead.\")\n"
     ]
    }
   ],
   "source": [
    "X = np.array(X)\n",
    "y = np.array(dataset_2['Purchase'])\n",
    "\n",
    "X_train, X_test, y_train, y_test = train_test_split(X, y, test_size = 0.30, random_state = 777)\n",
    "\n",
    "X_train = X_train.reshape(-1, 81)\n",
    "X_test = X_test.reshape(-1, 81)\n",
    "y_train = y_train.reshape(-1, 1)\n",
    "y_test = y_test.reshape(-1, 1)\n",
    "\n",
    "train_loader = DataLoader(Data(X_train, y_train), batch_size = 50, shuffle = True)\n",
    "test_loader = DataLoader(Data(X_test, y_test), batch_size = 50, shuffle = True)\n",
    "        \n",
    "net = Net()\n",
    "\n",
    "loss_function = nn.BCEWithLogitsLoss(reduction = \"sum\")\n",
    "\n",
    "learning_rate = 0.001\n",
    "n_epochs = 100\n",
    "optimizer = torch.optim.Adam(net.parameters(), learning_rate = learning_rate)\n",
    "\n",
    "net.to(device)\n",
    "\n",
    "train_loss = []\n",
    "test_loss = []\n",
    "test_accuracy = []\n",
    "\n",
    "for epoch in range(n_epochs):\n",
    "        \n",
    "    net.train(True)\n",
    "\n",
    "    train_epoch_loss = 0\n",
    "    \n",
    "    for i, data in enumerate(train_loader):\n",
    "        \n",
    "        X_batch, y_batch = data\n",
    "        X_batch, y_batch = X_batch.to(device).float(), y_batch.to(device).float()\n",
    "        \n",
    "        optimizer.zero_grad()\n",
    "        net_output = net(X_batch)\n",
    "        y_batch = y_batch.reshape(-1, 1)\n",
    "        \n",
    "        loss = loss_function(net_output, y_batch)\n",
    "        loss.backward()\n",
    "        \n",
    "        optimizer.step()\n",
    "\n",
    "        train_epoch_loss = train_epoch_loss + loss.item()\n",
    "\n",
    "    train_loss.append(train_epoch_loss / len(Data(X_train, y_train)))\n",
    "        \n",
    "    net.train(False)\n",
    "\n",
    "    test_epoch_loss = 0\n",
    "    acc = []\n",
    "\n",
    "    for i, data in enumerate(test_loader):\n",
    "\n",
    "        X_batch, y_batch = data\n",
    "        X_batch = X_batch.to(device).float()\n",
    "        y_batch = y_batch.to(device).float()\n",
    "\n",
    "        optimizer.zero_grad()\n",
    "        net_output = net(X_batch)\n",
    "        y_batch = y_batch.reshape(-1, 1)\n",
    "\n",
    "        loss = loss_function(net_output, y_batch)\n",
    "\n",
    "        test_epoch_loss = test_epoch_loss + loss.item()\n",
    "        \n",
    "        ACC = (y_batch == net_output).detach().cpu().numpy()\n",
    "        acc = np.concatenate((acc, ACC), axis = None)\n",
    "        \n",
    "    accuracy = np.mean(acc)  \n",
    "    test_accuracy.append(accuracy)      \n",
    "\n",
    "    test_loss.append(test_epoch_loss / len(Data(X_test, y_test)))"
   ]
  },
  {
   "cell_type": "code",
   "execution_count": 25,
   "metadata": {},
   "outputs": [
    {
     "data": {
      "image/png": "[encoded data removed]",
      "text/plain": [
       "<Figure size 432x288 with 2 Axes>"
      ]
     },
     "metadata": {
      "needs_background": "light"
     },
     "output_type": "display_data"
    }
   ],
   "source": [
    "fig, axes = plt.subplots()\n",
    "\n",
    "# Grafico el error en train y en test\n",
    "axes.plot(np.arange(n_epochs), train_loss, linewidth = 2, label= \"Error en entrenamiento\", color='b')\n",
    "axes.plot(np.arange(n_epochs), test_loss, linewidth = 2, label= \"Error en prueba\", color='g')\n",
    "axes.set_xlabel('epoch')\n",
    "axes.set_ylabel('Loss')\n",
    "axes.legend(bbox_to_anchor =(0.95, 1.25), ncol = 2)\n",
    "axes.grid()\n",
    "#axes.show()\n",
    "\n",
    "# Grafico la precisión en test\n",
    "twin_axes = axes.twinx() \n",
    "twin_axes.plot(np.arange(n_epochs), test_accuracy, linewidth = 2, label= \"Precisión\", color='r')\n",
    "twin_axes.set_ylabel('Accuracy')\n",
    "twin_axes.legend(bbox_to_anchor =(0.5, 1.15), ncol = 2)\n",
    "twin_axes.grid()\n",
    "plt.show()"
   ]
  },
  {
   "cell_type": "markdown",
   "metadata": {},
   "source": [
    "## b) Modelo con embeddings"
   ]
  },
  {
   "cell_type": "code",
   "execution_count": 26,
   "metadata": {},
   "outputs": [
    {
     "data": {
      "text/plain": [
       "array([   0,    3,    4, ..., 5869, 5869, 5869])"
      ]
     },
     "execution_count": 26,
     "metadata": {},
     "output_type": "execute_result"
    }
   ],
   "source": [
    "user_id_to_index = {key:value for key, value in zip(np.unique(dataset_2['User_ID']), np.arange(0, len(np.unique(dataset_2['User_ID']))))}\n",
    "user_idx = np.array([user_id_to_index[i] for i in dataset_2['User_ID']])\n",
    "user_idx"
   ]
  },
  {
   "cell_type": "code",
   "execution_count": 27,
   "metadata": {},
   "outputs": [
    {
     "data": {
      "text/plain": [
       "array([394, 287, 214, ..., 421, 184, 346])"
      ]
     },
     "execution_count": 27,
     "metadata": {},
     "output_type": "execute_result"
    }
   ],
   "source": [
    "product_id_to_index = {key:value for key, value in zip(np.unique(dataset_2['Product_ID']), np.arange(0, len(np.unique(dataset_2['Product_ID']))))}\n",
    "product_idx = np.array([product_id_to_index[i] for i in dataset_2['Product_ID']])\n",
    "product_idx"
   ]
  },
  {
   "cell_type": "code",
   "execution_count": 36,
   "metadata": {},
   "outputs": [],
   "source": [
    "class DataEmbeddings(Dataset):\n",
    "\n",
    "    def __init__(self, X, user_id, product_id, y):\n",
    "        super().__init__()\n",
    "        self.X = X\n",
    "        self.user_id = user_id\n",
    "        self.product_id = product_id\n",
    "        self.y = y\n",
    "\n",
    "    def __getitem__(self, idx):\n",
    "        return self.X[idx], self.user_id[idx], self.product_id[idx], self.y[idx]\n",
    "\n",
    "    def __len__(self):\n",
    "        return self.X.shape[0]"
   ]
  },
  {
   "cell_type": "code",
   "execution_count": 37,
   "metadata": {},
   "outputs": [],
   "source": [
    "class NetEmbeddings(nn.Module):\n",
    "\n",
    "    def __init__(self, num_users, num_products, d_u, d_p):\n",
    "        super().__init__()\n",
    "        self.embedding1 = nn.Embedding(num_embeddings = num_users, embedding_dim = d_u)\n",
    "        self.embedding2 = torch.nn.Embedding(num_embeddings = num_products, embedding_dim = d_p)\n",
    "        self.linear1 = torch.nn.Linear(in_features = 68 + d_u + d_p, out_features = 200, bias = True)\n",
    "        self.linear2 = torch.nn.Linear(in_features = 200, out_features = 50, bias = True)\n",
    "        self.linear3 = torch.nn.Linear(in_features = 50, out_features = 1, bias = True)\n",
    "\n",
    "    def forward(self, x, user_id, product_id):\n",
    "        self.user_e = self.embedding1(user_id)\n",
    "        self.product_e = self.embedding2(product_id)\n",
    "        self.final_input = torch.cat([x, self.user_e, self.product_e], dim = 1)  \n",
    "        x = nn.functional.relu(self.linear1(self.final_input)) \n",
    "        x = nn.functional.relu(self.linear2(x))\n",
    "        x = nn.functional.sigmoid(self.linear3(x))\n",
    "        return x"
   ]
  },
  {
   "cell_type": "code",
   "execution_count": 47,
   "metadata": {},
   "outputs": [
    {
     "name": "stderr",
     "output_type": "stream",
     "text": [
      "/Users/andavaro/Library/Python/3.8/lib/python/site-packages/sklearn/utils/deprecation.py:87: FutureWarning: Function get_feature_names is deprecated; get_feature_names is deprecated in 1.0 and will be removed in 1.2. Please use get_feature_names_out instead.\n",
      "  warnings.warn(msg, category=FutureWarning)\n"
     ]
    }
   ],
   "source": [
    "# Aplicamos one hot encoder a los datos\n",
    "encoder = OneHotEncoder(handle_unknown = 'ignore')\n",
    "\n",
    "X = encoder.fit_transform(dataset_2[['Gender',\t'Age',\t'Occupation',\t'City_Category',\t'Stay_In_Current_City_Years',\t'Marital_Status', 'Product_Category_1',\t'Product_Category_2',\t'Product_Category_3']]).toarray()\n",
    "X = pd.DataFrame(X, columns = np.concatenate((encoder.get_feature_names(['Gender',\t'Age',\t'Occupation',\t'City_Category',\t'Stay_In_Current_City_Years',\t'Marital_Status', 'Product_Category_1',\t'Product_Category_2',\t'Product_Category_3'])), axis = None))\n",
    "X = np.hstack([user_idx.reshape(-1,1), product_idx.reshape(-1,1), X])"
   ]
  },
  {
   "cell_type": "code",
   "execution_count": 39,
   "metadata": {},
   "outputs": [
    {
     "data": {
      "text/plain": [
       "(166821, 83)"
      ]
     },
     "execution_count": 39,
     "metadata": {},
     "output_type": "execute_result"
    }
   ],
   "source": [
    "X.shape"
   ]
  },
  {
   "cell_type": "code",
   "execution_count": 48,
   "metadata": {},
   "outputs": [
    {
     "name": "stderr",
     "output_type": "stream",
     "text": [
      "/Users/andavaro/Library/Python/3.8/lib/python/site-packages/torch/nn/functional.py:1960: UserWarning: nn.functional.sigmoid is deprecated. Use torch.sigmoid instead.\n",
      "  warnings.warn(\"nn.functional.sigmoid is deprecated. Use torch.sigmoid instead.\")\n"
     ]
    }
   ],
   "source": [
    "X = np.array(X)\n",
    "y = np.array(dataset_2['Purchase'])\n",
    "\n",
    "X_train, X_test, y_train, y_test = train_test_split(X, y, test_size = 0.30, random_state = 777)\n",
    "user_index_train = X_train[:,0]\n",
    "user_index_test = X_test[:,0]\n",
    "product_index_train = X_train[:,1]\n",
    "product_index_test = X_test[:,1]\n",
    "X_train = X_train.reshape(-1, 83)\n",
    "X_test = X_test.reshape(-1, 83)\n",
    "y_train = y_train.reshape(-1, 1)\n",
    "y_test = y_test.reshape(-1, 1)\n",
    "\n",
    "train_ds = DataEmbeddings(X_train, user_index_train, product_index_train, y_train)\n",
    "test_ds = DataEmbeddings(X_test, user_index_test, product_index_test, y_test)\n",
    "\n",
    "train_dataloader = DataLoader(train_ds, batch_size = 50, shuffle = True)\n",
    "test_dataloader = DataLoader(test_ds, batch_size = 50, shuffle = True)\n",
    "      \n",
    "user_n = int(len(np.unique(dataset_2['User_ID'])))\n",
    "product_n = int(len(np.unique(dataset_2['Product_ID'])))\n",
    "net = NetEmbeddings(user_n, product_n, 8, 8)\n",
    "\n",
    "loss_function = torch.nn.BCEWithLogitsLoss(reduction = \"sum\")\n",
    "\n",
    "learning_rate = 0.001\n",
    "n_epochs = 100\n",
    "optimizer = torch.optim.Adam(net.parameters(), learning_rate)\n",
    "\n",
    "net.to(device)\n",
    "\n",
    "train_loss = []\n",
    "test_loss = []\n",
    "test_accuracy = []\n",
    "\n",
    "for epoch in range(n_epochs):\n",
    "    \n",
    "    net.train(True)\n",
    "\n",
    "    train_epoch_loss = 0\n",
    "    \n",
    "    for i, data in enumerate(train_dataloader):\n",
    "        \n",
    "        X_batch, user_batch, product_batch, y_batch = data\n",
    "        \n",
    "        X_batch = X_batch.to(device).float()\n",
    "        user_batch = user_batch.to(device).long()\n",
    "        product_batch = product_batch.to(device).long()\n",
    "        y_batch = y_batch.to(device).float()\n",
    "        \n",
    "        optimizer.zero_grad()\n",
    "        net_output = net(X_batch, user_batch, product_batch)\n",
    "        y_batch = y_batch.reshape(-1, 1)\n",
    "        \n",
    "        loss = loss_function(net_output, y_batch)\n",
    "        loss.backward()\n",
    "        \n",
    "        optimizer.step()\n",
    "\n",
    "        train_epoch_loss = train_epoch_loss + loss.item()\n",
    "\n",
    "    train_loss.append(train_epoch_loss / len(train_ds))\n",
    "\n",
    "    net.train(False)\n",
    "\n",
    "    test_epoch_loss = 0\n",
    "    acc = []\n",
    "\n",
    "    for i, data in enumerate(test_dataloader):\n",
    "\n",
    "        X_batch, user_batch, product_batch, y_batch = data\n",
    "        X_batch = X_batch.to(device).float()\n",
    "        user_batch = user_batch.to(device).long()\n",
    "        product_batch = product_batch.to(device).long()\n",
    "        y_batch = y_batch.to(device).float()\n",
    "\n",
    "        optimizer.zero_grad()\n",
    "        net_output = net(X_batch, user_batch, product_batch)\n",
    "        y_batch = y_batch.reshape(-1, 1)\n",
    "\n",
    "        loss = loss_function(net_output, y_batch)\n",
    "\n",
    "        test_epoch_loss = test_epoch_loss + loss.item()\n",
    "        \n",
    "        ACC = np.mean((y_batch == net_output).detach().cpu().numpy())\n",
    "        acc = np.concatenate((acc, ACC), axis = None)\n",
    "        \n",
    "    accuracy = np.mean(acc)  \n",
    "    test_accuracy.append(accuracy)          \n",
    "\n",
    "    test_loss.append(test_epoch_loss / len(test_ds))"
   ]
  },
  {
   "cell_type": "code",
   "execution_count": 49,
   "metadata": {},
   "outputs": [
    {
     "data": {
      "image/png": "[encoded data removed]",
      "text/plain": [
       "<Figure size 432x288 with 2 Axes>"
      ]
     },
     "metadata": {
      "needs_background": "light"
     },
     "output_type": "display_data"
    }
   ],
   "source": [
    "fig, axes = plt.subplots()\n",
    "\n",
    "# Grafico el error en train y en test\n",
    "axes.plot(np.arange(n_epochs), train_loss, linewidth = 2, label= \"Error en entrenamiento\", color='b')\n",
    "axes.plot(np.arange(n_epochs), test_loss, linewidth = 2, label= \"Error en prueba\", color='g')\n",
    "axes.set_xlabel('epoch')\n",
    "axes.set_ylabel('Loss')\n",
    "axes.legend(bbox_to_anchor =(0.95, 1.25), ncol = 2)\n",
    "axes.grid()\n",
    "#axes.show()\n",
    "\n",
    "# Grafico la precisión en test\n",
    "twin_axes = axes.twinx() \n",
    "twin_axes.plot(np.arange(n_epochs), test_accuracy, linewidth = 2, label= \"Precisión\", color='r')\n",
    "twin_axes.set_ylabel('Accuracy')\n",
    "twin_axes.legend(bbox_to_anchor =(0.5, 1.15), ncol = 2)\n",
    "twin_axes.grid()\n",
    "plt.show()"
   ]
  },
  {
   "cell_type": "markdown",
   "metadata": {},
   "source": [
    "## c) Comparación de los modelos"
   ]
  },
  {
   "cell_type": "markdown",
   "metadata": {},
   "source": [
    "Al observar los resultados de error en ambos modelos, podemos notar que los valores de error decrecen hasta cierto umbral tanto en training como en test; sin embargo, el decrecimiento presenta picos mucho mas notorios en el modelo sin embedings. Otra diferencia que se puede notar está en el valor de error alcanzado, siendo mas bajo en el modelo con embeddings (train<0.5, test<0.53) que en el modelo sin embeddings (train>0.5275, test>0.5425). Lo mismo ocurre con los valores de Precisión, donde el modelo con embeddings, con una precisión cercana a 0.8, sobresale respecto a la precisión de 0.75 del otro modelo."
   ]
  },
  {
   "cell_type": "markdown",
   "metadata": {},
   "source": [
    "# 4)"
   ]
  },
  {
   "cell_type": "markdown",
   "metadata": {},
   "source": [
    "$y=a log(b) + bc^2$"
   ]
  },
  {
   "cell_type": "markdown",
   "metadata": {},
   "source": [
    "## a) Derivadas analíticas"
   ]
  },
  {
   "cell_type": "markdown",
   "metadata": {},
   "source": [
    "### Respecto a $a$"
   ]
  },
  {
   "cell_type": "markdown",
   "metadata": {},
   "source": [
    "$\\frac{\\partial y}{\\partial a}=log(b)|_{b=10}=2.3$"
   ]
  },
  {
   "cell_type": "markdown",
   "metadata": {},
   "source": [
    "### Respecto a $b$"
   ]
  },
  {
   "cell_type": "markdown",
   "metadata": {},
   "source": [
    "$\\frac{\\partial y}{\\partial b}=\\frac{a}{b}+c^2|_{a=2, b=10, c=0.5}=0.45$"
   ]
  },
  {
   "cell_type": "markdown",
   "metadata": {},
   "source": [
    "### Respecto a $c$"
   ]
  },
  {
   "cell_type": "markdown",
   "metadata": {},
   "source": [
    "$\\frac{\\partial y}{\\partial c}=2bc|_{b=10, c=0.5}=10$"
   ]
  },
  {
   "cell_type": "markdown",
   "metadata": {},
   "source": [
    "## b) Utilizando límites"
   ]
  },
  {
   "cell_type": "markdown",
   "metadata": {},
   "source": [
    "### Respecto a $a$"
   ]
  },
  {
   "cell_type": "markdown",
   "metadata": {},
   "source": [
    "$\\frac{\\partial y}{\\partial a}=lim_{h \\to 0}\\frac{(a+h) log(b) + bc^2 - a log(b) - bc^2}{h}$"
   ]
  },
  {
   "cell_type": "markdown",
   "metadata": {},
   "source": [
    "$\\frac{\\partial y}{\\partial a}=lim_{h \\to 0}\\frac{(a+h-a) log(b)}{h}=lim_{h \\to 0}\\frac{(h) log(b)}{h}$"
   ]
  },
  {
   "cell_type": "markdown",
   "metadata": {},
   "source": [
    "$\\frac{\\partial y}{\\partial a}=lim_{h \\to 0}log(b)|_{b=10}=2.3$"
   ]
  },
  {
   "cell_type": "markdown",
   "metadata": {},
   "source": [
    "### Respecto a $b$"
   ]
  },
  {
   "cell_type": "markdown",
   "metadata": {},
   "source": [
    "$\\frac{\\partial y}{\\partial b}=lim_{h \\to 0}\\frac{a log(b+h) + (b+h)c^2 - a log(b) - bc^2}{h}$"
   ]
  },
  {
   "cell_type": "markdown",
   "metadata": {},
   "source": [
    "$\\frac{\\partial y}{\\partial b}=lim_{h \\to 0}\\frac{a (log(b+h)-log(b)) + (b+h-b)c^2}{h}=lim_{h \\to 0}\\frac{a log(\\frac{b+h}{b}) + (h)c^2}{h}$"
   ]
  },
  {
   "cell_type": "markdown",
   "metadata": {},
   "source": [
    "$\\frac{\\partial y}{\\partial b}=lim_{h \\to 0}\\frac{a log(\\frac{b+h}{b})}{h} + c^2|_{a=2, b=10, c=0.5, h=0.00000000001}=0.45$"
   ]
  },
  {
   "cell_type": "markdown",
   "metadata": {},
   "source": [
    "### Respecto a $c$"
   ]
  },
  {
   "cell_type": "markdown",
   "metadata": {},
   "source": [
    "$\\frac{\\partial y}{\\partial a}=lim_{h \\to 0}\\frac{a log(b) + b(c+h)^2 - a log(b) - bc^2}{h}$"
   ]
  },
  {
   "cell_type": "markdown",
   "metadata": {},
   "source": [
    "$\\frac{\\partial y}{\\partial a}=lim_{h \\to 0}\\frac{b(c^2 +2ch +h^2 -c^2)}{h}=\n",
    "lim_{h \\to 0}\\frac{bh(2c +h)}{h}=\n",
    "lim_{h \\to 0}b(2c +h)$"
   ]
  },
  {
   "cell_type": "markdown",
   "metadata": {},
   "source": [
    "$\\frac{\\partial y}{\\partial a}=2bc|_{b=10, c=0.5}=10$"
   ]
  },
  {
   "cell_type": "markdown",
   "metadata": {},
   "source": [
    "## d) Utilizando Pytorch"
   ]
  },
  {
   "cell_type": "code",
   "execution_count": 50,
   "metadata": {},
   "outputs": [
    {
     "name": "stdout",
     "output_type": "stream",
     "text": [
      "tensor(2.3026) tensor(0.4500) tensor(10.)\n"
     ]
    }
   ],
   "source": [
    "a=torch.tensor(2.0, requires_grad=True)\n",
    "b=torch.tensor(10.0, requires_grad=True)\n",
    "c=torch.tensor(0.5, requires_grad=True)\n",
    "\n",
    "y=(a*torch.log(b))+(b*torch.pow(c, 2))\n",
    "\n",
    "y.backward()\n",
    "\n",
    "print(a.grad,b.grad,c.grad)"
   ]
  }
 ],
 "metadata": {
  "kernelspec": {
   "display_name": "Python 3.8.9 64-bit",
   "language": "python",
   "name": "python3"
  },
  "language_info": {
   "codemirror_mode": {
    "name": "ipython",
    "version": 3
   },
   "file_extension": ".py",
   "mimetype": "text/x-python",
   "name": "python",
   "nbconvert_exporter": "python",
   "pygments_lexer": "ipython3",
   "version": "3.8.9"
  },
  "orig_nbformat": 4,
  "vscode": {
   "interpreter": {
    "hash": "31f2aee4e71d21fbe5cf8b01ff0e069b9275f58929596ceb00d14d90e3e16cd6"
   }
  }
 },
 "nbformat": 4,
 "nbformat_minor": 2
}
